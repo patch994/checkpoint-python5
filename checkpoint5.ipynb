{
 "cells": [
  {
   "cell_type": "code",
   "execution_count": 1,
   "id": "b0376530",
   "metadata": {},
   "outputs": [],
   "source": [
    "import numpy as np"
   ]
  },
  {
   "cell_type": "code",
   "execution_count": 57,
   "id": "40a7d460",
   "metadata": {},
   "outputs": [
    {
     "name": "stdout",
     "output_type": "stream",
     "text": [
      "[85 90 88 92 95 80 75 98 89 83]\n",
      "moyenne: 87.5\n",
      "médiane: 88.5\n",
      "ecart: 6.591661399070799\n",
      "le maximum des grades: 98\n",
      "le minimum des grades: 75\n",
      "l'indice de la note la plus élevée dans le tableau: 7\n",
      "le nombre d'étudiants ayant obtenu une note supérieure à 90: 3\n",
      "le pourcentage d'étudiants ayant obtenu une note supérieure à 90: 30.0 %\n",
      "les notes supérieures à 75: [85 90 88 92 95 80 75 98 89 83]\n"
     ]
    }
   ],
   "source": [
    "grades = np.array([85, 90, 88, 92, 95, 80, 75, 98, 89, 83])\n",
    "print(grades)\n",
    "mean=np.mean(grades)\n",
    "print(\"moyenne:\",mean)\n",
    "median=np.median(grades)\n",
    "print(\"médiane:\",median)\n",
    "std_dev=np.std(grades)\n",
    "print(\"ecart:\",std_dev)\n",
    "print(\"le maximum des grades:\",np.max(grades))\n",
    "print(\"le minimum des grades:\",np.min(grades))\n",
    "max_index=np.argmax(grades)\n",
    "print(\"l'indice de la note la plus élevée dans le tableau:\",max_index)\n",
    "count_above_90 = np.sum(grades > 90)\n",
    "print(\"le nombre d'étudiants ayant obtenu une note supérieure à 90:\",count_above_90)\n",
    "_percentage = (count_above_90 / len(grades)) * 100\n",
    "print(\"le pourcentage d'étudiants ayant obtenu une note supérieure à 90:\",_percentage,\"%\")\n",
    "passing_grades = grades[grades >=75]\n",
    "print(\"les notes supérieures à 75:\",passing_grades)\n",
    "\n"
   ]
  }
 ],
 "metadata": {
  "kernelspec": {
   "display_name": "Python 3",
   "language": "python",
   "name": "python3"
  },
  "language_info": {
   "codemirror_mode": {
    "name": "ipython",
    "version": 3
   },
   "file_extension": ".py",
   "mimetype": "text/x-python",
   "name": "python",
   "nbconvert_exporter": "python",
   "pygments_lexer": "ipython3",
   "version": "3.13.2"
  }
 },
 "nbformat": 4,
 "nbformat_minor": 5
}
